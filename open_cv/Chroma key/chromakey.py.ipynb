{
 "cells": [
  {
   "cell_type": "code",
   "execution_count": 8,
   "metadata": {},
   "outputs": [
    {
     "name": "stdout",
     "output_type": "stream",
     "text": [
      "0\n",
      "0\n",
      "640\n",
      "480\n"
     ]
    }
   ],
   "source": [
    "import cv2\n",
    "import numpy as np\n",
    "import matplotlib.pylab as plt\n",
    "\n",
    "# Image Location.\n",
    "image_path1 = '..\\images\\greenBernie.jpg'\n",
    "image_path2 = '..\\images\\space.jpg'\n",
    "\n",
    "img1 = cv2.imread(image_path1)\n",
    "img2 = cv2.imread(image_path2)\n",
    "\n",
    "# Extract width and height from image\n",
    "height1, width1 = img1.shape[:2]\n",
    "height2, width2 = img2.shape[:2]\n",
    "\n",
    "x = (width2 - width1)//2\n",
    "y = height2 - height1\n",
    "w = x + width1\n",
    "h = y + height1\n",
    "\n",
    "print(x)\n",
    "print(y)\n",
    "print(w)\n",
    "print(h)"
   ]
  },
  {
   "cell_type": "code",
   "execution_count": 9,
   "metadata": {},
   "outputs": [
    {
     "name": "stdout",
     "output_type": "stream",
     "text": [
      "[[[ 31 254  54]\n",
      "  [ 31 254  54]\n",
      "  [ 31 254  54]\n",
      "  [ 31 254  54]\n",
      "  [ 31 254  54]\n",
      "  [ 31 254  54]\n",
      "  [ 31 254  54]\n",
      "  [ 31 254  54]\n",
      "  [ 31 254  54]\n",
      "  [ 31 254  54]]\n",
      "\n",
      " [[ 31 254  54]\n",
      "  [ 31 254  54]\n",
      "  [ 31 254  54]\n",
      "  [ 31 254  54]\n",
      "  [ 31 254  54]\n",
      "  [ 31 254  54]\n",
      "  [ 31 254  54]\n",
      "  [ 31 254  54]\n",
      "  [ 31 254  54]\n",
      "  [ 31 254  54]]\n",
      "\n",
      " [[ 31 254  54]\n",
      "  [ 31 254  54]\n",
      "  [ 31 254  54]\n",
      "  [ 31 254  54]\n",
      "  [ 31 254  54]\n",
      "  [ 31 254  54]\n",
      "  [ 31 254  54]\n",
      "  [ 31 254  54]\n",
      "  [ 31 254  54]\n",
      "  [ 31 254  54]]\n",
      "\n",
      " [[ 31 254  54]\n",
      "  [ 31 254  54]\n",
      "  [ 31 254  54]\n",
      "  [ 31 254  54]\n",
      "  [ 31 254  54]\n",
      "  [ 31 254  54]\n",
      "  [ 31 254  54]\n",
      "  [ 31 254  54]\n",
      "  [ 31 254  54]\n",
      "  [ 31 254  54]]\n",
      "\n",
      " [[ 31 254  54]\n",
      "  [ 31 254  54]\n",
      "  [ 31 254  54]\n",
      "  [ 31 254  54]\n",
      "  [ 31 254  54]\n",
      "  [ 31 254  54]\n",
      "  [ 31 254  54]\n",
      "  [ 31 254  54]\n",
      "  [ 31 254  54]\n",
      "  [ 31 254  54]]\n",
      "\n",
      " [[ 31 254  54]\n",
      "  [ 31 254  54]\n",
      "  [ 31 254  54]\n",
      "  [ 31 254  54]\n",
      "  [ 31 254  54]\n",
      "  [ 31 254  54]\n",
      "  [ 31 254  54]\n",
      "  [ 31 254  54]\n",
      "  [ 31 254  54]\n",
      "  [ 31 254  54]]\n",
      "\n",
      " [[ 31 254  54]\n",
      "  [ 31 254  54]\n",
      "  [ 31 254  54]\n",
      "  [ 31 254  54]\n",
      "  [ 31 254  54]\n",
      "  [ 31 254  54]\n",
      "  [ 31 254  54]\n",
      "  [ 31 254  54]\n",
      "  [ 31 254  54]\n",
      "  [ 31 254  54]]\n",
      "\n",
      " [[ 31 254  54]\n",
      "  [ 31 254  54]\n",
      "  [ 31 254  54]\n",
      "  [ 31 254  54]\n",
      "  [ 31 254  54]\n",
      "  [ 31 254  54]\n",
      "  [ 31 254  54]\n",
      "  [ 31 254  54]\n",
      "  [ 31 254  54]\n",
      "  [ 31 254  54]]\n",
      "\n",
      " [[ 31 254  54]\n",
      "  [ 31 254  54]\n",
      "  [ 31 254  54]\n",
      "  [ 31 254  54]\n",
      "  [ 31 254  54]\n",
      "  [ 31 254  54]\n",
      "  [ 31 254  54]\n",
      "  [ 31 254  54]\n",
      "  [ 31 254  54]\n",
      "  [ 31 254  54]]\n",
      "\n",
      " [[ 31 254  54]\n",
      "  [ 31 254  54]\n",
      "  [ 31 254  54]\n",
      "  [ 31 254  54]\n",
      "  [ 31 254  54]\n",
      "  [ 31 254  54]\n",
      "  [ 31 254  54]\n",
      "  [ 31 254  54]\n",
      "  [ 31 254  54]\n",
      "  [ 31 254  54]]]\n"
     ]
    }
   ],
   "source": [
    "chromakey = img1[:10, :10, :]\n",
    "print(chromakey)\n",
    "offset = 10\n",
    "\n",
    "hsv_chroma = cv2.cvtColor(chromakey, cv2.COLOR_BGR2HSV)\n",
    "hsv_img = cv2.cvtColor(img1, cv2.COLOR_BGR2HSV)\n",
    "\n",
    "cv2.imshow(\"hsv_chroma\",hsv_chroma)\n",
    "cv2.imshow(\"hsv_img\", hsv_img)\n",
    "cv2.waitKey()\n",
    "cv2.destroyAllWindows()"
   ]
  },
  {
   "cell_type": "code",
   "execution_count": 3,
   "metadata": {},
   "outputs": [
    {
     "name": "stdout",
     "output_type": "stream",
     "text": [
      "(10, 10, 3)\n"
     ]
    }
   ],
   "source": [
    "print(hsv_chroma.shape)"
   ]
  },
  {
   "cell_type": "code",
   "execution_count": 10,
   "metadata": {},
   "outputs": [
    {
     "name": "stdout",
     "output_type": "stream",
     "text": [
      "[[57 57 57 57 57 57 57 57 57 57]\n",
      " [57 57 57 57 57 57 57 57 57 57]\n",
      " [57 57 57 57 57 57 57 57 57 57]\n",
      " [57 57 57 57 57 57 57 57 57 57]\n",
      " [57 57 57 57 57 57 57 57 57 57]\n",
      " [57 57 57 57 57 57 57 57 57 57]\n",
      " [57 57 57 57 57 57 57 57 57 57]\n",
      " [57 57 57 57 57 57 57 57 57 57]\n",
      " [57 57 57 57 57 57 57 57 57 57]\n",
      " [57 57 57 57 57 57 57 57 57 57]]\n",
      "(10, 10)\n",
      "57\n",
      "[ 47 100 100]\n",
      "[ 67 255 255]\n"
     ]
    }
   ],
   "source": [
    "chroma_h = hsv_chroma[:,:,0]\n",
    "print(chroma_h)\n",
    "print(chroma_h.shape)\n",
    "print(chroma_h.min())\n",
    "lower = np.array([chroma_h.min()-offset, 100, 100])\n",
    "print(lower)\n",
    "upper = np.array([chroma_h.max()+offset, 255, 255])\n",
    "print(upper)"
   ]
  },
  {
   "cell_type": "code",
   "execution_count": 11,
   "metadata": {},
   "outputs": [],
   "source": [
    "mask = cv2.inRange(hsv_img, lower, upper)\n",
    "mask_inv = cv2.bitwise_not(mask)"
   ]
  },
  {
   "cell_type": "code",
   "execution_count": 12,
   "metadata": {},
   "outputs": [],
   "source": [
    "cv2.imshow(\"Mask\", mask)\n",
    "cv2.waitKey()\n",
    "cv2.destroyAllWindows()"
   ]
  },
  {
   "cell_type": "code",
   "execution_count": 13,
   "metadata": {},
   "outputs": [],
   "source": [
    "roi = img2[y:h, x:w]\n",
    "fg = cv2.bitwise_and(img1, img1, mask=mask_inv)\n",
    "bg = cv2.bitwise_and(roi, roi, mask=mask)\n",
    "img2[y:h, x:w] = fg + bg\n",
    "\n",
    "cv2.imshow('chromakey', img1)\n",
    "cv2.imshow('added', img2)\n",
    "cv2.waitKey()\n",
    "cv2.destroyAllWindows()"
   ]
  },
  {
   "cell_type": "code",
   "execution_count": null,
   "metadata": {},
   "outputs": [],
   "source": []
  }
 ],
 "metadata": {
  "kernelspec": {
   "display_name": "Python 3",
   "language": "python",
   "name": "python3"
  },
  "language_info": {
   "codemirror_mode": {
    "name": "ipython",
    "version": 3
   },
   "file_extension": ".py",
   "mimetype": "text/x-python",
   "name": "python",
   "nbconvert_exporter": "python",
   "pygments_lexer": "ipython3",
   "version": "3.8.3"
  }
 },
 "nbformat": 4,
 "nbformat_minor": 4
}
