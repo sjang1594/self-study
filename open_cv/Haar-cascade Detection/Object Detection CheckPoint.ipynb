{
 "cells": [
  {
   "cell_type": "code",
   "execution_count": 1,
   "metadata": {},
   "outputs": [],
   "source": [
    "#import libraries.\n",
    "import numpy as np\n",
    "import cv2"
   ]
  },
  {
   "cell_type": "code",
   "execution_count": 2,
   "metadata": {},
   "outputs": [
    {
     "name": "stdout",
     "output_type": "stream",
     "text": [
      "OpenCV version:\n",
      "4.4.0\n"
     ]
    }
   ],
   "source": [
    "#Check the version of opencv\n",
    "print(\"OpenCV version:\")\n",
    "print(cv2.__version__)"
   ]
  },
  {
   "cell_type": "code",
   "execution_count": 3,
   "metadata": {},
   "outputs": [],
   "source": [
    "def detectAndDisplay(frame):\n",
    "    frame_gray = cv2.cvtColor(frame, cv2.COLOR_BGR2GRAY)\n",
    "    frame_gray = cv2.equalizeHist(frame_gray)\n",
    "    #--Detect faces\n",
    "    faces = face_cascade.detectMultiScale(frame_gray)\n",
    "    for (x, y, w, h) in faces:\n",
    "        center = (x + w//2, y + h//2)\n",
    "        frame = cv2.rectangle(frame, (x,y), (x+w, y+h), (0, 255, 0), 4)\n",
    "        #ROI --> Reason of interest\n",
    "        faceROI = frame_gray[y:y+h, x:x+w]\n",
    "        #-- In each face, detect eyes\n",
    "        eyes = eyes_cascade.detectMultiScale(faceROI)\n",
    "        for(x2, y2, w2, h2) in eyes:\n",
    "            eye_center = (x + x2 + w2//2, y + y2 + h2//2)\n",
    "            radius = int(round((w2 + h2)*0.25))\n",
    "            frame = cv2.circle(frame, eye_center, radius, (255, 0, 0), 4)\n",
    "        \n",
    "        cv2.imshow('Capture -- Face Detection', frame)"
   ]
  },
  {
   "cell_type": "code",
   "execution_count": 4,
   "metadata": {},
   "outputs": [
    {
     "name": "stdout",
     "output_type": "stream",
     "text": [
      "width: 1024 pixels\n",
      "length: 799 pixels\n",
      "channels: 3\n"
     ]
    }
   ],
   "source": [
    "#Read the image and print out width/length/channels.\n",
    "base_linkToImage =  \"./opencv_dnn_202005/image/\"\n",
    "img = cv2.imread(base_linkToImage+\"/marathon_01.jpg\")\n",
    "print(\"width: {} pixels\".format(img.shape[1]))\n",
    "print(\"length: {} pixels\".format(img.shape[0]))\n",
    "print(\"channels: {}\".format(img.shape[2]))"
   ]
  },
  {
   "cell_type": "code",
   "execution_count": 5,
   "metadata": {},
   "outputs": [],
   "source": [
    "#declare the height and width\n",
    "(height, width) = img.shape[:2]"
   ]
  },
  {
   "cell_type": "code",
   "execution_count": 6,
   "metadata": {},
   "outputs": [
    {
     "name": "stdout",
     "output_type": "stream",
     "text": [
      "__init__.py\r\n",
      "\u001b[34m__pycache__\u001b[m\u001b[m\r\n",
      "haarcascade_eye.xml\r\n",
      "haarcascade_eye_tree_eyeglasses.xml\r\n",
      "haarcascade_frontalcatface.xml\r\n",
      "haarcascade_frontalcatface_extended.xml\r\n",
      "haarcascade_frontalface_alt.xml\r\n",
      "haarcascade_frontalface_alt2.xml\r\n",
      "haarcascade_frontalface_alt_tree.xml\r\n",
      "haarcascade_frontalface_default.xml\r\n",
      "haarcascade_fullbody.xml\r\n",
      "haarcascade_lefteye_2splits.xml\r\n",
      "haarcascade_licence_plate_rus_16stages.xml\r\n",
      "haarcascade_lowerbody.xml\r\n",
      "haarcascade_profileface.xml\r\n",
      "haarcascade_righteye_2splits.xml\r\n",
      "haarcascade_russian_plate_number.xml\r\n",
      "haarcascade_smile.xml\r\n",
      "haarcascade_upperbody.xml\r\n"
     ]
    }
   ],
   "source": [
    "#Find a directory for haarcascade xmls.\n",
    "base_linkTo_cascade = \"opt/anaconda3/lib/python3.8/site-packages/cv2/data\""
   ]
  },
  {
   "cell_type": "code",
   "execution_count": 7,
   "metadata": {},
   "outputs": [],
   "source": [
    "face_cascade_name = base_linkTo_cascade + '/haarcascade_frontalface_alt.xml'\n",
    "eyes_cascade_name = base_linkTo_cascade + '/haarcascade_eye_tree_eyeglasses.xml'\n",
    "\n",
    "face_cascade = cv2.CascadeClassifier()\n",
    "eyes_cascade = cv2.CascadeClassifier()"
   ]
  },
  {
   "cell_type": "code",
   "execution_count": 8,
   "metadata": {},
   "outputs": [],
   "source": [
    "#check if the image is not loading or not.\n",
    "if not face_cascade.load(cv2.samples.findFile(face_cascade_name)):\n",
    "    print('--(!)Error Loading Face Cascade')\n",
    "    exit(0)\n",
    "if not eyes_cascade.load(cv2.samples.findFile(eyes_cascade_name)):\n",
    "    print('--(!)Error Loading Face Cascade')"
   ]
  },
  {
   "cell_type": "code",
   "execution_count": 9,
   "metadata": {},
   "outputs": [],
   "source": [
    "#Call the function\n",
    "detectAndDisplay(img)\n",
    "cv2.waitKey(0)\n",
    "cv2.destroyAllWindows()"
   ]
  },
  {
   "cell_type": "code",
   "execution_count": null,
   "metadata": {},
   "outputs": [],
   "source": []
  }
 ],
 "metadata": {
  "kernelspec": {
   "display_name": "Python 3",
   "language": "python",
   "name": "python3"
  },
  "language_info": {
   "codemirror_mode": {
    "name": "ipython",
    "version": 3
   },
   "file_extension": ".py",
   "mimetype": "text/x-python",
   "name": "python",
   "nbconvert_exporter": "python",
   "pygments_lexer": "ipython3",
   "version": "3.7.7"
  }
 },
 "nbformat": 4,
 "nbformat_minor": 4
}
